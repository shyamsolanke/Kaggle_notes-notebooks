{
 "cells": [
  {
   "cell_type": "code",
   "execution_count": 24,
   "metadata": {},
   "outputs": [],
   "source": [
    "import pandas as pd\n",
    "df_raw = pd.read_csv(\"train.csv\")"
   ]
  },
  {
   "cell_type": "code",
   "execution_count": 25,
   "metadata": {},
   "outputs": [],
   "source": [
    "# Label Encoding\n",
    "from sklearn.preprocessing import LabelEncoder\n",
    "encoder = LabelEncoder()\n",
    "\n",
    "df_encode = df_raw.copy()\n",
    "\n",
    "for col in df_encode.columns:\n",
    "\tif df_encode[col].dtype in ['O', 'object', 'category']:\n",
    "\t\tdf_encode[col]= encoder.fit_transform(df_encode[col])"
   ]
  },
  {
   "cell_type": "code",
   "execution_count": 26,
   "metadata": {},
   "outputs": [
    {
     "data": {
      "text/plain": [
       "Index(['ID', 'dri_score', 'psych_disturb', 'cyto_score', 'diabetes',\n",
       "       'hla_match_c_high', 'hla_high_res_8', 'tbi_status', 'arrhythmia',\n",
       "       'hla_low_res_6', 'graft_type', 'vent_hist', 'renal_issue',\n",
       "       'pulm_severe', 'prim_disease_hct', 'hla_high_res_6', 'cmv_status',\n",
       "       'hla_high_res_10', 'hla_match_dqb1_high', 'tce_imm_match', 'hla_nmdp_6',\n",
       "       'hla_match_c_low', 'rituximab', 'hla_match_drb1_low',\n",
       "       'hla_match_dqb1_low', 'prod_type', 'cyto_score_detail',\n",
       "       'conditioning_intensity', 'ethnicity', 'year_hct', 'obesity', 'mrd_hct',\n",
       "       'in_vivo_tcd', 'tce_match', 'hla_match_a_high', 'hepatic_severe',\n",
       "       'donor_age', 'prior_tumor', 'hla_match_b_low', 'peptic_ulcer',\n",
       "       'age_at_hct', 'hla_match_a_low', 'gvhd_proph', 'rheum_issue',\n",
       "       'sex_match', 'hla_match_b_high', 'race_group', 'comorbidity_score',\n",
       "       'karnofsky_score', 'hepatic_mild', 'tce_div_match', 'donor_related',\n",
       "       'melphalan_dose', 'hla_low_res_8', 'cardiac', 'hla_match_drb1_high',\n",
       "       'pulm_moderate', 'hla_low_res_10', 'efs', 'efs_time'],\n",
       "      dtype='object')"
      ]
     },
     "execution_count": 26,
     "metadata": {},
     "output_type": "execute_result"
    }
   ],
   "source": [
    "df_encode.columns"
   ]
  },
  {
   "cell_type": "code",
   "execution_count": 27,
   "metadata": {},
   "outputs": [],
   "source": [
    "# df_encode.drop(labels=['efs','efs_time'], axis=1, inplace=True)"
   ]
  },
  {
   "cell_type": "code",
   "execution_count": 28,
   "metadata": {},
   "outputs": [
    {
     "name": "stdout",
     "output_type": "stream",
     "text": [
      "Mean Squared Error (MSE): 0.218253125\n",
      "R-squared (R2): 0.12371495399485744\n"
     ]
    }
   ],
   "source": [
    "# Import necessary libraries\n",
    "from sklearn.model_selection import train_test_split\n",
    "from sklearn.ensemble import RandomForestRegressor\n",
    "from sklearn.metrics import mean_squared_error, r2_score\n",
    "import pandas as pd\n",
    "import numpy as np\n",
    "\n",
    "# Sample dataset (replace with your actual data)\n",
    "# For demonstration, let's create a random dataset\n",
    "# np.random.seed(42)\n",
    "# data = pd.DataFrame({\n",
    "#     'Feature1': np.random.rand(100),\n",
    "#     'Feature2': np.random.rand(100),\n",
    "#     'Target': np.random.rand(100)\n",
    "# })\n",
    "\n",
    "# Features and target\n",
    "y = df_encode['efs']                  # Dependent variable\n",
    "df_encode.drop(labels=['efs','efs_time'], axis=1, inplace=True)\n",
    "X = df_encode[list(df_encode.columns)]  # Independent variables\n",
    "\n",
    "\n",
    "# Split the data into training and testing sets\n",
    "X_train, X_test, y_train, y_test = train_test_split(X, y, test_size=0.1, random_state=42)\n",
    "\n",
    "# Initialize the Random Forest Regressor\n",
    "rf_regressor = RandomForestRegressor(n_estimators=100, random_state=42)\n",
    "\n",
    "# Train the model\n",
    "rf_regressor.fit(X_train, y_train)\n",
    "\n",
    "# Make predictions\n",
    "y_pred = rf_regressor.predict(X_test)\n",
    "\n",
    "# Evaluate the model\n",
    "mse = mean_squared_error(y_test, y_pred)\n",
    "r2 = r2_score(y_test, y_pred)\n",
    "\n",
    "# Print results\n",
    "print(\"Mean Squared Error (MSE):\", mse)\n",
    "print(\"R-squared (R2):\", r2)"
   ]
  },
  {
   "cell_type": "code",
   "execution_count": 53,
   "metadata": {},
   "outputs": [],
   "source": [
    "df_test = pd.read_csv(\"test.csv\")"
   ]
  },
  {
   "cell_type": "code",
   "execution_count": 54,
   "metadata": {},
   "outputs": [
    {
     "data": {
      "text/plain": [
       "58"
      ]
     },
     "execution_count": 54,
     "metadata": {},
     "output_type": "execute_result"
    }
   ],
   "source": [
    "len(df_test.columns)"
   ]
  },
  {
   "cell_type": "code",
   "execution_count": 55,
   "metadata": {},
   "outputs": [
    {
     "data": {
      "text/plain": [
       "58"
      ]
     },
     "execution_count": 55,
     "metadata": {},
     "output_type": "execute_result"
    }
   ],
   "source": [
    "len(df_encode.columns)"
   ]
  },
  {
   "cell_type": "code",
   "execution_count": 56,
   "metadata": {},
   "outputs": [],
   "source": [
    "df_encode_test = df_test.copy()\n",
    "\n",
    "for col in df_encode.columns:\n",
    "\tif df_encode_test[col].dtype in ['O', 'object', 'category']:\n",
    "\t\tdf_encode_test[col]= encoder.fit_transform(df_encode_test[col])"
   ]
  },
  {
   "cell_type": "code",
   "execution_count": null,
   "metadata": {},
   "outputs": [],
   "source": [
    "# import numpy as np\n",
    "# df_encode_test = np.array(df_encode_test)\n",
    "# rf_regressor.predict(df_encode_test)"
   ]
  },
  {
   "cell_type": "code",
   "execution_count": 57,
   "metadata": {},
   "outputs": [
    {
     "data": {
      "text/plain": [
       "(3, 58)"
      ]
     },
     "execution_count": 57,
     "metadata": {},
     "output_type": "execute_result"
    }
   ],
   "source": [
    "df_encode_test.shape"
   ]
  },
  {
   "cell_type": "code",
   "execution_count": 45,
   "metadata": {},
   "outputs": [],
   "source": [
    "df_encode_test.drop(labels=['efs','efs_time'], axis=1, inplace=True)"
   ]
  },
  {
   "cell_type": "code",
   "execution_count": 40,
   "metadata": {},
   "outputs": [
    {
     "data": {
      "text/plain": [
       "(25920, 58)"
      ]
     },
     "execution_count": 40,
     "metadata": {},
     "output_type": "execute_result"
    }
   ],
   "source": [
    "X_train.shape"
   ]
  },
  {
   "cell_type": "code",
   "execution_count": 46,
   "metadata": {},
   "outputs": [
    {
     "data": {
      "text/plain": [
       "set()"
      ]
     },
     "execution_count": 46,
     "metadata": {},
     "output_type": "execute_result"
    }
   ],
   "source": [
    "# set(df_encode_test.columns) - set(df_encode.columns)"
   ]
  },
  {
   "cell_type": "code",
   "execution_count": 58,
   "metadata": {},
   "outputs": [
    {
     "data": {
      "text/plain": [
       "array([0.45, 0.45, 0.55])"
      ]
     },
     "execution_count": 58,
     "metadata": {},
     "output_type": "execute_result"
    }
   ],
   "source": [
    "rf_regressor.predict(df_encode_test)"
   ]
  },
  {
   "cell_type": "code",
   "execution_count": 48,
   "metadata": {},
   "outputs": [
    {
     "data": {
      "text/plain": [
       "28800"
      ]
     },
     "execution_count": 48,
     "metadata": {},
     "output_type": "execute_result"
    }
   ],
   "source": [
    "len(df_encode_test)"
   ]
  },
  {
   "cell_type": "code",
   "execution_count": 59,
   "metadata": {},
   "outputs": [],
   "source": [
    "result_dict = {\"ID\": list(df_encode_test[\"ID\"]), \"prediction\":list(rf_regressor.predict(df_encode_test))}"
   ]
  },
  {
   "cell_type": "code",
   "execution_count": 61,
   "metadata": {},
   "outputs": [],
   "source": [
    "df_result = pd.DataFrame(result_dict)"
   ]
  },
  {
   "cell_type": "code",
   "execution_count": null,
   "metadata": {},
   "outputs": [],
   "source": [
    "df_result.to_csv()"
   ]
  },
  {
   "cell_type": "code",
   "execution_count": 70,
   "metadata": {},
   "outputs": [
    {
     "name": "stdout",
     "output_type": "stream",
     "text": [
      "Mean Squared Error (MSE): 0.215876244813278\n",
      "R-squared (R2): 0.13242834864964237\n"
     ]
    }
   ],
   "source": [
    "import pandas as pd\n",
    "df_raw = pd.read_csv(\"train.csv\")\n",
    "# Label Encoding\n",
    "from sklearn.preprocessing import LabelEncoder\n",
    "encoder = LabelEncoder()\n",
    "\n",
    "df_encode = df_raw.copy()\n",
    "\n",
    "for col in df_encode.columns:\n",
    "\tif df_encode[col].dtype in ['O', 'object', 'category']:\n",
    "\t\tdf_encode[col]= encoder.fit_transform(df_encode[col])\n",
    "df_encode.columns\n",
    "# df_encode.drop(labels=['efs','efs_time'], axis=1, inplace=True)\n",
    "# Import necessary libraries\n",
    "from sklearn.model_selection import train_test_split\n",
    "from sklearn.ensemble import RandomForestRegressor\n",
    "from sklearn.metrics import mean_squared_error, r2_score\n",
    "import pandas as pd\n",
    "import numpy as np\n",
    "\n",
    "# Sample dataset (replace with your actual data)\n",
    "# For demonstration, let's create a random dataset\n",
    "# np.random.seed(42)\n",
    "# data = pd.DataFrame({\n",
    "#     'Feature1': np.random.rand(100),\n",
    "#     'Feature2': np.random.rand(100),\n",
    "#     'Target': np.random.rand(100)\n",
    "# })\n",
    "#drop nan\n",
    "df_encode.dropna(inplace=True)\n",
    "# Features and target\n",
    "y = df_encode['efs']                  # Dependent variable\n",
    "df_encode.drop(labels=['efs','efs_time'], axis=1, inplace=True)\n",
    "\n",
    "\n",
    "X = df_encode[list(df_encode.columns)]  # Independent variables\n",
    "\n",
    "\n",
    "# Split the data into training and testing sets\n",
    "X_train, X_test, y_train, y_test = train_test_split(X, y, test_size=0.1, random_state=42)\n",
    "\n",
    "# Initialize the Random Forest Regressor\n",
    "rf_regressor = RandomForestRegressor(n_estimators=100, random_state=42)\n",
    "\n",
    "# Train the model\n",
    "rf_regressor.fit(X_train, y_train)\n",
    "\n",
    "# Make predictions\n",
    "y_pred = rf_regressor.predict(X_test)\n",
    "\n",
    "# Evaluate the model\n",
    "mse = mean_squared_error(y_test, y_pred)\n",
    "r2 = r2_score(y_test, y_pred)\n",
    "\n",
    "# Print results\n",
    "print(\"Mean Squared Error (MSE):\", mse)\n",
    "print(\"R-squared (R2):\", r2)\n",
    "df_test = pd.read_csv(\"test.csv\")\n",
    "len(df_test.columns)\n",
    "len(df_encode.columns)\n",
    "df_encode_test = df_test.copy()\n"
   ]
  },
  {
   "cell_type": "code",
   "execution_count": 71,
   "metadata": {},
   "outputs": [
    {
     "name": "stderr",
     "output_type": "stream",
     "text": [
      "C:\\Users\\shyam\\AppData\\Local\\Temp\\ipykernel_30652\\3174939598.py:5: FutureWarning: Setting an item of incompatible dtype is deprecated and will raise an error in a future version of pandas. Value '0' has dtype incompatible with float64, please explicitly cast to a compatible dtype first.\n",
      "  df_encode_test.fillna(\"0\",inplace=True)\n"
     ]
    }
   ],
   "source": [
    "\n",
    "\n",
    "\n",
    "for col in df_encode.columns:\n",
    "\tif df_encode_test[col].dtype in ['O', 'object', 'category']:\n",
    "\t\tdf_encode_test[col]= encoder.fit_transform(df_encode_test[col])\n",
    "\n",
    "df_encode_test.fillna(\"0\",inplace=True)\n",
    "# import numpy as np\n",
    "# df_encode_test = np.array(df_encode_test)\n",
    "# rf_regressor.predict(df_encode_test)\n",
    "df_encode_test.shape\n",
    "# df_encode_test.drop(labels=['efs','efs_time'], axis=1, inplace=True)\n",
    "X_train.shape\n",
    "# set(df_encode_test.columns) - set(df_encode.columns)\n",
    "rf_regressor.predict(df_encode_test)\n",
    "len(df_encode_test)\n",
    "result_dict = {\"ID\": list(df_encode_test[\"ID\"]), \"prediction\":list(rf_regressor.predict(df_encode_test))}\n",
    "df_result = pd.DataFrame(result_dict)\n",
    "df_result.to_csv(\"submission.csv\", index=False)"
   ]
  },
  {
   "cell_type": "code",
   "execution_count": null,
   "metadata": {},
   "outputs": [],
   "source": []
  }
 ],
 "metadata": {
  "kernelspec": {
   "display_name": "Python 3",
   "language": "python",
   "name": "python3"
  },
  "language_info": {
   "codemirror_mode": {
    "name": "ipython",
    "version": 3
   },
   "file_extension": ".py",
   "mimetype": "text/x-python",
   "name": "python",
   "nbconvert_exporter": "python",
   "pygments_lexer": "ipython3",
   "version": "3.11.9"
  }
 },
 "nbformat": 4,
 "nbformat_minor": 2
}
